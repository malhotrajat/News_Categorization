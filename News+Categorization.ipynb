{
 "cells": [
  {
   "cell_type": "markdown",
   "metadata": {},
   "source": [
    "# **News Categorization using Multinomial Naive Bayes and Logistic Regression**"
   ]
  },
  {
   "cell_type": "markdown",
   "metadata": {},
   "source": [
    "The dataset was taken from : https://www.kaggle.com/uciml/news-aggregator-dataset\n",
    "\n",
    "This dataset contains headlines, URLs, and categories for 422,937 news stories collected by a web aggregator between March 10th, 2014 and August 10th, 2014.\n",
    "\n",
    "News categories included in this dataset include business; science and technology; entertainment; and health. Different news articles that refer to the same news item (e.g., several articles about recently released employment statistics) are also categorized together."
   ]
  },
  {
   "cell_type": "markdown",
   "metadata": {},
   "source": [
    "# Content\n",
    "The columns included in this dataset are:\n",
    "\n",
    "**ID** : the numeric ID of the article\n",
    "\n",
    "**TITLE** : the headline of the article\n",
    "\n",
    "**URL** : the URL of the article\n",
    "\n",
    "**PUBLISHER** : the publisher of the article\n",
    "\n",
    "**CATEGORY** : the category of the news item; one of: -- b : business -- t : science and technology -- e : entertainment -- m : health\n",
    "\n",
    "**STORY** : alphanumeric ID of the news story that the article discusses\n",
    "\n",
    "**HOSTNAME** : hostname where the article was posted\n",
    "\n",
    "**TIMESTAMP** : approximate timestamp of the article's publication, given in Unix time (seconds since midnight on Jan 1, 1970)"
   ]
  },
  {
   "cell_type": "markdown",
   "metadata": {},
   "source": [
    "# Acknowledgments\n",
    "\n",
    "This dataset comes from the UCI Machine Learning Repository. Any publications that use this data should cite the repository as follows:\n",
    "\n",
    "Lichman, M. (2013). UCI Machine Learning Repository [http://archive.ics.uci.edu/ml]. Irvine, CA: University of California, School of Information and Computer Science.\n",
    "\n",
    "This specific dataset can be found in the UCI ML Repository at this URL"
   ]
  },
  {
   "cell_type": "markdown",
   "metadata": {},
   "source": [
    "# Approach\n",
    "\n",
    "We would be using the Multinomial Naive Bayes and Logistic Regression algorithms to categorize the news headlines"
   ]
  },
  {
   "cell_type": "markdown",
   "metadata": {},
   "source": [
    "# Importing the data and the required libraries"
   ]
  },
  {
   "cell_type": "code",
   "execution_count": 1,
   "metadata": {
    "collapsed": true
   },
   "outputs": [],
   "source": [
    "#importing allthe necessary libraries\n",
    "import numpy as np\n",
    "import pandas as pd\n",
    "import matplotlib.pyplot as plt\n",
    "from sklearn.model_selection import train_test_split\n",
    "from sklearn.feature_extraction.text import CountVectorizer \n",
    "from sklearn.feature_extraction.text import TfidfTransformer \n",
    "from sklearn.naive_bayes import MultinomialNB \n",
    "from sklearn.linear_model import LogisticRegression\n",
    "from sklearn.pipeline import Pipeline \n",
    "from sklearn import metrics\n",
    "import itertools\n",
    "%matplotlib inline"
   ]
  },
  {
   "cell_type": "code",
   "execution_count": 2,
   "metadata": {
    "collapsed": true
   },
   "outputs": [],
   "source": [
    "data=pd.read_csv(\"E:/Git/Project markdowns/Classifying news articles/uci-news-aggregator/uci-news-aggregator.csv\")"
   ]
  },
  {
   "cell_type": "code",
   "execution_count": 3,
   "metadata": {},
   "outputs": [
    {
     "data": {
      "text/html": [
       "<div>\n",
       "<style>\n",
       "    .dataframe thead tr:only-child th {\n",
       "        text-align: right;\n",
       "    }\n",
       "\n",
       "    .dataframe thead th {\n",
       "        text-align: left;\n",
       "    }\n",
       "\n",
       "    .dataframe tbody tr th {\n",
       "        vertical-align: top;\n",
       "    }\n",
       "</style>\n",
       "<table border=\"1\" class=\"dataframe\">\n",
       "  <thead>\n",
       "    <tr style=\"text-align: right;\">\n",
       "      <th></th>\n",
       "      <th>ID</th>\n",
       "      <th>TITLE</th>\n",
       "      <th>URL</th>\n",
       "      <th>PUBLISHER</th>\n",
       "      <th>CATEGORY</th>\n",
       "      <th>STORY</th>\n",
       "      <th>HOSTNAME</th>\n",
       "      <th>TIMESTAMP</th>\n",
       "    </tr>\n",
       "  </thead>\n",
       "  <tbody>\n",
       "    <tr>\n",
       "      <th>0</th>\n",
       "      <td>1</td>\n",
       "      <td>Fed official says weak data caused by weather,...</td>\n",
       "      <td>http://www.latimes.com/business/money/la-fi-mo...</td>\n",
       "      <td>Los Angeles Times</td>\n",
       "      <td>b</td>\n",
       "      <td>ddUyU0VZz0BRneMioxUPQVP6sIxvM</td>\n",
       "      <td>www.latimes.com</td>\n",
       "      <td>1394470370698</td>\n",
       "    </tr>\n",
       "    <tr>\n",
       "      <th>1</th>\n",
       "      <td>2</td>\n",
       "      <td>Fed's Charles Plosser sees high bar for change...</td>\n",
       "      <td>http://www.livemint.com/Politics/H2EvwJSK2VE6O...</td>\n",
       "      <td>Livemint</td>\n",
       "      <td>b</td>\n",
       "      <td>ddUyU0VZz0BRneMioxUPQVP6sIxvM</td>\n",
       "      <td>www.livemint.com</td>\n",
       "      <td>1394470371207</td>\n",
       "    </tr>\n",
       "    <tr>\n",
       "      <th>2</th>\n",
       "      <td>3</td>\n",
       "      <td>US open: Stocks fall after Fed official hints ...</td>\n",
       "      <td>http://www.ifamagazine.com/news/us-open-stocks...</td>\n",
       "      <td>IFA Magazine</td>\n",
       "      <td>b</td>\n",
       "      <td>ddUyU0VZz0BRneMioxUPQVP6sIxvM</td>\n",
       "      <td>www.ifamagazine.com</td>\n",
       "      <td>1394470371550</td>\n",
       "    </tr>\n",
       "    <tr>\n",
       "      <th>3</th>\n",
       "      <td>4</td>\n",
       "      <td>Fed risks falling 'behind the curve', Charles ...</td>\n",
       "      <td>http://www.ifamagazine.com/news/fed-risks-fall...</td>\n",
       "      <td>IFA Magazine</td>\n",
       "      <td>b</td>\n",
       "      <td>ddUyU0VZz0BRneMioxUPQVP6sIxvM</td>\n",
       "      <td>www.ifamagazine.com</td>\n",
       "      <td>1394470371793</td>\n",
       "    </tr>\n",
       "    <tr>\n",
       "      <th>4</th>\n",
       "      <td>5</td>\n",
       "      <td>Fed's Plosser: Nasty Weather Has Curbed Job Gr...</td>\n",
       "      <td>http://www.moneynews.com/Economy/federal-reser...</td>\n",
       "      <td>Moneynews</td>\n",
       "      <td>b</td>\n",
       "      <td>ddUyU0VZz0BRneMioxUPQVP6sIxvM</td>\n",
       "      <td>www.moneynews.com</td>\n",
       "      <td>1394470372027</td>\n",
       "    </tr>\n",
       "    <tr>\n",
       "      <th>5</th>\n",
       "      <td>6</td>\n",
       "      <td>Plosser: Fed May Have to Accelerate Tapering Pace</td>\n",
       "      <td>http://www.nasdaq.com/article/plosser-fed-may-...</td>\n",
       "      <td>NASDAQ</td>\n",
       "      <td>b</td>\n",
       "      <td>ddUyU0VZz0BRneMioxUPQVP6sIxvM</td>\n",
       "      <td>www.nasdaq.com</td>\n",
       "      <td>1394470372212</td>\n",
       "    </tr>\n",
       "    <tr>\n",
       "      <th>6</th>\n",
       "      <td>7</td>\n",
       "      <td>Fed's Plosser: Taper pace may be too slow</td>\n",
       "      <td>http://www.marketwatch.com/story/feds-plosser-...</td>\n",
       "      <td>MarketWatch</td>\n",
       "      <td>b</td>\n",
       "      <td>ddUyU0VZz0BRneMioxUPQVP6sIxvM</td>\n",
       "      <td>www.marketwatch.com</td>\n",
       "      <td>1394470372405</td>\n",
       "    </tr>\n",
       "    <tr>\n",
       "      <th>7</th>\n",
       "      <td>8</td>\n",
       "      <td>Fed's Plosser expects US unemployment to fall ...</td>\n",
       "      <td>http://www.fxstreet.com/news/forex-news/articl...</td>\n",
       "      <td>FXstreet.com</td>\n",
       "      <td>b</td>\n",
       "      <td>ddUyU0VZz0BRneMioxUPQVP6sIxvM</td>\n",
       "      <td>www.fxstreet.com</td>\n",
       "      <td>1394470372615</td>\n",
       "    </tr>\n",
       "    <tr>\n",
       "      <th>8</th>\n",
       "      <td>9</td>\n",
       "      <td>US jobs growth last month hit by weather:Fed P...</td>\n",
       "      <td>http://economictimes.indiatimes.com/news/inter...</td>\n",
       "      <td>Economic Times</td>\n",
       "      <td>b</td>\n",
       "      <td>ddUyU0VZz0BRneMioxUPQVP6sIxvM</td>\n",
       "      <td>economictimes.indiatimes.com</td>\n",
       "      <td>1394470372792</td>\n",
       "    </tr>\n",
       "    <tr>\n",
       "      <th>9</th>\n",
       "      <td>10</td>\n",
       "      <td>ECB unlikely to end sterilisation of SMP purch...</td>\n",
       "      <td>http://www.iii.co.uk/news-opinion/reuters/news...</td>\n",
       "      <td>Interactive Investor</td>\n",
       "      <td>b</td>\n",
       "      <td>dPhGU51DcrolUIMxbRm0InaHGA2XM</td>\n",
       "      <td>www.iii.co.uk</td>\n",
       "      <td>1394470501265</td>\n",
       "    </tr>\n",
       "  </tbody>\n",
       "</table>\n",
       "</div>"
      ],
      "text/plain": [
       "   ID                                              TITLE  \\\n",
       "0   1  Fed official says weak data caused by weather,...   \n",
       "1   2  Fed's Charles Plosser sees high bar for change...   \n",
       "2   3  US open: Stocks fall after Fed official hints ...   \n",
       "3   4  Fed risks falling 'behind the curve', Charles ...   \n",
       "4   5  Fed's Plosser: Nasty Weather Has Curbed Job Gr...   \n",
       "5   6  Plosser: Fed May Have to Accelerate Tapering Pace   \n",
       "6   7          Fed's Plosser: Taper pace may be too slow   \n",
       "7   8  Fed's Plosser expects US unemployment to fall ...   \n",
       "8   9  US jobs growth last month hit by weather:Fed P...   \n",
       "9  10  ECB unlikely to end sterilisation of SMP purch...   \n",
       "\n",
       "                                                 URL             PUBLISHER  \\\n",
       "0  http://www.latimes.com/business/money/la-fi-mo...     Los Angeles Times   \n",
       "1  http://www.livemint.com/Politics/H2EvwJSK2VE6O...              Livemint   \n",
       "2  http://www.ifamagazine.com/news/us-open-stocks...          IFA Magazine   \n",
       "3  http://www.ifamagazine.com/news/fed-risks-fall...          IFA Magazine   \n",
       "4  http://www.moneynews.com/Economy/federal-reser...             Moneynews   \n",
       "5  http://www.nasdaq.com/article/plosser-fed-may-...                NASDAQ   \n",
       "6  http://www.marketwatch.com/story/feds-plosser-...           MarketWatch   \n",
       "7  http://www.fxstreet.com/news/forex-news/articl...          FXstreet.com   \n",
       "8  http://economictimes.indiatimes.com/news/inter...        Economic Times   \n",
       "9  http://www.iii.co.uk/news-opinion/reuters/news...  Interactive Investor   \n",
       "\n",
       "  CATEGORY                          STORY                      HOSTNAME  \\\n",
       "0        b  ddUyU0VZz0BRneMioxUPQVP6sIxvM               www.latimes.com   \n",
       "1        b  ddUyU0VZz0BRneMioxUPQVP6sIxvM              www.livemint.com   \n",
       "2        b  ddUyU0VZz0BRneMioxUPQVP6sIxvM           www.ifamagazine.com   \n",
       "3        b  ddUyU0VZz0BRneMioxUPQVP6sIxvM           www.ifamagazine.com   \n",
       "4        b  ddUyU0VZz0BRneMioxUPQVP6sIxvM             www.moneynews.com   \n",
       "5        b  ddUyU0VZz0BRneMioxUPQVP6sIxvM                www.nasdaq.com   \n",
       "6        b  ddUyU0VZz0BRneMioxUPQVP6sIxvM           www.marketwatch.com   \n",
       "7        b  ddUyU0VZz0BRneMioxUPQVP6sIxvM              www.fxstreet.com   \n",
       "8        b  ddUyU0VZz0BRneMioxUPQVP6sIxvM  economictimes.indiatimes.com   \n",
       "9        b  dPhGU51DcrolUIMxbRm0InaHGA2XM                 www.iii.co.uk   \n",
       "\n",
       "       TIMESTAMP  \n",
       "0  1394470370698  \n",
       "1  1394470371207  \n",
       "2  1394470371550  \n",
       "3  1394470371793  \n",
       "4  1394470372027  \n",
       "5  1394470372212  \n",
       "6  1394470372405  \n",
       "7  1394470372615  \n",
       "8  1394470372792  \n",
       "9  1394470501265  "
      ]
     },
     "execution_count": 3,
     "metadata": {},
     "output_type": "execute_result"
    }
   ],
   "source": [
    "#Analysing the structure of the data given to us\n",
    "data.head(10)"
   ]
  },
  {
   "cell_type": "code",
   "execution_count": 4,
   "metadata": {},
   "outputs": [
    {
     "data": {
      "text/plain": [
       "e    152469\n",
       "b    115967\n",
       "t    108344\n",
       "m     45639\n",
       "Name: CATEGORY, dtype: int64"
      ]
     },
     "execution_count": 4,
     "metadata": {},
     "output_type": "execute_result"
    }
   ],
   "source": [
    "#Getting the counts of each category\n",
    "data[\"CATEGORY\"].value_counts()"
   ]
  },
  {
   "cell_type": "code",
   "execution_count": 5,
   "metadata": {
    "collapsed": true
   },
   "outputs": [],
   "source": [
    "names=['Entertainment', 'Business', 'Science and Technology', 'Health']"
   ]
  },
  {
   "cell_type": "code",
   "execution_count": 6,
   "metadata": {},
   "outputs": [
    {
     "data": {
      "text/plain": [
       "array([<matplotlib.axes._subplots.AxesSubplot object at 0x00000227F372B320>], dtype=object)"
      ]
     },
     "execution_count": 6,
     "metadata": {},
     "output_type": "execute_result"
    },
    {
     "data": {
      "image/png": "[encoded data removed]",
      "text/plain": [
       "<matplotlib.figure.Figure at 0x227fd3fc9b0>"
      ]
     },
     "metadata": {},
     "output_type": "display_data"
    }
   ],
   "source": [
    "#visualizing the categories \n",
    "data[\"CATEGORY\"].value_counts().plot(kind='pie', labels=names, autopct='%1.0f%%', subplots=True, figsize=(8, 8))"
   ]
  },
  {
   "cell_type": "markdown",
   "metadata": {},
   "source": [
    "# Preparing the data to be fed into the model"
   ]
  },
  {
   "cell_type": "markdown",
   "metadata": {},
   "source": [
    "We will split the original data into the training and testing sets using the train_test_split() function. We want a training size of 70% of the entire data. \n",
    "\n",
    "It is worth noting that the train_test_split() function shuffles the rows inorder to maintain the training set distribution similar to the original data."
   ]
  },
  {
   "cell_type": "code",
   "execution_count": 7,
   "metadata": {
    "collapsed": true
   },
   "outputs": [],
   "source": [
    "X=data[\"TITLE\"]\n",
    "y=data[\"CATEGORY\"]\n",
    "X_train, X_test, y_train, y_test = train_test_split(X, y, test_size=0.3, random_state=42)"
   ]
  },
  {
   "cell_type": "code",
   "execution_count": 8,
   "metadata": {},
   "outputs": [
    {
     "data": {
      "text/plain": [
       "295693"
      ]
     },
     "execution_count": 8,
     "metadata": {},
     "output_type": "execute_result"
    }
   ],
   "source": [
    "#Calculating the number of rows in our train set\n",
    "len(y_train)"
   ]
  },
  {
   "cell_type": "code",
   "execution_count": 9,
   "metadata": {},
   "outputs": [
    {
     "data": {
      "text/plain": [
       "array([<matplotlib.axes._subplots.AxesSubplot object at 0x00000227F3748CF8>], dtype=object)"
      ]
     },
     "execution_count": 9,
     "metadata": {},
     "output_type": "execute_result"
    },
    {
     "data": {
      "image/png": "[encoded data removed]",
      "text/plain": [
       "<matplotlib.figure.Figure at 0x227f3b40c18>"
      ]
     },
     "metadata": {},
     "output_type": "display_data"
    }
   ],
   "source": [
    "y_train.value_counts().plot(kind='pie', labels=names, autopct='%1.0f%%', subplots=True, figsize=(8, 8))"
   ]
  },
  {
   "cell_type": "markdown",
   "metadata": {},
   "source": [
    "We see that the training set has the same distribution as the original data and that's what we wanted."
   ]
  },
  {
   "cell_type": "markdown",
   "metadata": {},
   "source": [
    "# Training the Multinomial Naive Bayes Classifier"
   ]
  },
  {
   "cell_type": "markdown",
   "metadata": {},
   "source": [
    "In order to train and test the classifier, the first step should be to tokenize and count the number of occurrence of each word that appear in the headlines.\n",
    "\n",
    "We use the CountVectorizer() for that. Each term is assigned a unique integer index. \n",
    "\n",
    "Then the counters are transformed to a TF-IDF representation using TfidfTransformer(). \n",
    "\n",
    "The last step creates the Multinomial Naive Bayes classifier. \n",
    "\n",
    "In order to make the training process easier, scikit-learn provides a Pipeline class that behaves like a compound classifier. "
   ]
  },
  {
   "cell_type": "code",
   "execution_count": 10,
   "metadata": {
    "collapsed": true
   },
   "outputs": [],
   "source": [
    "text_clf = Pipeline([('vect', CountVectorizer()),\n",
    "                         ('tfidf', TfidfTransformer()),\n",
    "                         ('clf', MultinomialNB()),\n",
    "                         ])"
   ]
  },
  {
   "cell_type": "code",
   "execution_count": 11,
   "metadata": {},
   "outputs": [],
   "source": [
    "text_clf = text_clf.fit(X_train, y_train)\n",
    "predicted1 = text_clf.predict(X_test)"
   ]
  },
  {
   "cell_type": "code",
   "execution_count": 12,
   "metadata": {},
   "outputs": [
    {
     "data": {
      "text/plain": [
       "0.92273093130060124"
      ]
     },
     "execution_count": 12,
     "metadata": {},
     "output_type": "execute_result"
    }
   ],
   "source": [
    "metrics.accuracy_score(y_test, predicted1)"
   ]
  },
  {
   "cell_type": "code",
   "execution_count": 13,
   "metadata": {},
   "outputs": [
    {
     "name": "stdout",
     "output_type": "stream",
     "text": [
      "                        precision    recall  f1-score   support\n",
      "\n",
      "              Business       0.89      0.91      0.90     34868\n",
      "         Entertainment       0.95      0.97      0.96     45630\n",
      "                Health       0.97      0.84      0.90     13658\n",
      "Science and Technology       0.90      0.90      0.90     32570\n",
      "\n",
      "           avg / total       0.92      0.92      0.92    126726\n",
      "\n"
     ]
    }
   ],
   "source": [
    "print(metrics.classification_report(y_test, predicted1, target_names=sorted(names)))"
   ]
  },
  {
   "cell_type": "markdown",
   "metadata": {},
   "source": [
    "We can see that the metrics (precision, recall and f1-score) on an average give us 0.92, the results for category e (entertainment) are even better.\n",
    "\n",
    "The overall accuracy of classification is 92.273%"
   ]
  },
  {
   "cell_type": "markdown",
   "metadata": {},
   "source": [
    "# Training the Logistic Regression Classifier"
   ]
  },
  {
   "cell_type": "markdown",
   "metadata": {},
   "source": [
    "In order to train and test the classifier, the first step should be to tokenize and count the number of occurrence of each word that appear in the headlines.\n",
    "\n",
    "We use the CountVectorizer() for that. Each term is assigned a unique integer index.\n",
    "\n",
    "Then the counters are transformed to a TF-IDF representation using TfidfTransformer().\n",
    "\n",
    "The last step creates the Logistic Regression classifier. It is worth noting that the default mode for the LogisticRegression() function can only help us classify binary target variables. In order to be able to classify a multi-class problem, we specify **multi_class='multinomial'**. Also worth noting is that the only solvers that can be used for a multiclass problem are: **newton-cg, sag & lbfgs** which are specified using the **solver=...** parameter in the LogisticRegression() function.\n",
    "\n",
    "In order to make the training process easier, scikit-learn provides a Pipeline class that behaves like a compound classifier."
   ]
  },
  {
   "cell_type": "code",
   "execution_count": 14,
   "metadata": {},
   "outputs": [],
   "source": [
    "text_np = Pipeline([('vect', CountVectorizer()),\n",
    "                         ('tfidf', TfidfTransformer()),\n",
    "                         ('clf2', LogisticRegression(solver='newton-cg', multi_class='multinomial')),\n",
    "                         ])"
   ]
  },
  {
   "cell_type": "code",
   "execution_count": 15,
   "metadata": {},
   "outputs": [],
   "source": [
    "text_np = text_np.fit(X_train, y_train)\n",
    "predicted2 = text_np.predict(X_test)"
   ]
  },
  {
   "cell_type": "code",
   "execution_count": 16,
   "metadata": {},
   "outputs": [
    {
     "data": {
      "text/plain": [
       "0.94406041380616446"
      ]
     },
     "execution_count": 16,
     "metadata": {},
     "output_type": "execute_result"
    }
   ],
   "source": [
    "metrics.accuracy_score(y_test, predicted2)"
   ]
  },
  {
   "cell_type": "code",
   "execution_count": 17,
   "metadata": {},
   "outputs": [
    {
     "name": "stdout",
     "output_type": "stream",
     "text": [
      "                        precision    recall  f1-score   support\n",
      "\n",
      "              Business       0.92      0.93      0.92     34868\n",
      "         Entertainment       0.97      0.98      0.97     45630\n",
      "                Health       0.96      0.91      0.94     13658\n",
      "Science and Technology       0.93      0.93      0.93     32570\n",
      "\n",
      "           avg / total       0.94      0.94      0.94    126726\n",
      "\n"
     ]
    }
   ],
   "source": [
    "print(metrics.classification_report(y_test, predicted2, target_names=sorted(names)))"
   ]
  },
  {
   "cell_type": "markdown",
   "metadata": {},
   "source": [
    "The accuracy with the Logistic Regression model is better than with the Naive Bayes model. Also, we see the average f-score is 0.94 which is betterthan the 9.2 in the case of the Naive Bayes classifier."
   ]
  },
  {
   "cell_type": "markdown",
   "metadata": {},
   "source": [
    "# **Conclusion**"
   ]
  },
  {
   "cell_type": "markdown",
   "metadata": {},
   "source": [
    "A Naive Bayes method is slightly faster but the Logistic Regression model has a higher classification accuracy.\n",
    "\n",
    "This difference arises because they optimize different objective functions even though both the algorithms utilize the same hypothesis space.\n",
    "\n",
    "When the training size reaches infinity the discriminative model: logistic regression performs better than the generative model Naive Bayes. However the generative model reaches its asymptotic faster than the discriminative model, i.e the generative model (Naive Bayes) reaches the asymptotic solution for fewer training sets than the discriminative model (Logistic Regression). The training set size seems to be large enough for the logistic regression to be better. The other reason could also be that the data isn't entirely conditionally independent (which is required by the Naive Bayes model)."
   ]
  }
 ],
 "metadata": {
  "kernelspec": {
   "display_name": "Python 3",
   "language": "python",
   "name": "python3"
  },
  "language_info": {
   "codemirror_mode": {
    "name": "ipython",
    "version": 3
   },
   "file_extension": ".py",
   "mimetype": "text/x-python",
   "name": "python",
   "nbconvert_exporter": "python",
   "pygments_lexer": "ipython3",
   "version": "3.6.1"
  }
 },
 "nbformat": 4,
 "nbformat_minor": 2
}
